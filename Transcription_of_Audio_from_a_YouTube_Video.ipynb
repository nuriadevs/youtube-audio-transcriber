{
  "nbformat": 4,
  "nbformat_minor": 0,
  "metadata": {
    "colab": {
      "provenance": []
    },
    "kernelspec": {
      "name": "python3",
      "display_name": "Python 3"
    },
    "language_info": {
      "name": "python"
    }
  },
  "cells": [
    {
      "cell_type": "markdown",
      "source": [
        "# Transcription of Audio from a YouTube Video"
      ],
      "metadata": {
        "id": "kU3zuXcqLTxD"
      }
    },
    {
      "cell_type": "markdown",
      "source": [
        "## Install dependencies\n",
        "Install the required libraries to use the Whisper voice transcription model."
      ],
      "metadata": {
        "id": "UPI-g2ttL3Na"
      }
    },
    {
      "cell_type": "code",
      "source": [
        "!pip install -U openai-whisper\n",
        "!pip install --upgrade whisper"
      ],
      "metadata": {
        "id": "-2H6lYdFLWbo"
      },
      "execution_count": null,
      "outputs": []
    },
    {
      "cell_type": "markdown",
      "source": [
        "## Install libraries\n",
        "Install the Pytube and ffmpeg-python libraries for video manipulation and audio download."
      ],
      "metadata": {
        "id": "jYgRitIGMBk0"
      }
    },
    {
      "cell_type": "code",
      "source": [
        "!python -m pip install pytube\n",
        "!pip install ffmpeg-python"
      ],
      "metadata": {
        "id": "CgTrQ9R3NQxw"
      },
      "execution_count": null,
      "outputs": []
    },
    {
      "cell_type": "markdown",
      "source": [
        "## Import the necessary libraries"
      ],
      "metadata": {
        "id": "-ZkguKaMSknK"
      }
    },
    {
      "cell_type": "code",
      "source": [
        "from pytube import YouTube\n",
        "import whisper"
      ],
      "metadata": {
        "id": "5atACRuWTAY1"
      },
      "execution_count": 5,
      "outputs": []
    },
    {
      "cell_type": "markdown",
      "source": [
        "### Set the youtube url\n",
        "The video is the poem \"Splendour in the Grass\" written William Wordsworth."
      ],
      "metadata": {
        "id": "IlbZbSPDNUKW"
      }
    },
    {
      "cell_type": "code",
      "source": [
        "youtubeID = 'https://www.youtube.com/watch?v=-6JIaWigm-c'"
      ],
      "metadata": {
        "id": "3w3bw7feN-ao"
      },
      "execution_count": 6,
      "outputs": []
    },
    {
      "cell_type": "markdown",
      "source": [
        "### Load the transcription model\n",
        "Loading the model for voice transcription."
      ],
      "metadata": {
        "id": "RC3pX8DQPBkt"
      }
    },
    {
      "cell_type": "code",
      "source": [
        "model = whisper.load_model('small')"
      ],
      "metadata": {
        "id": "ZPuXN5K5PoUV"
      },
      "execution_count": null,
      "outputs": []
    },
    {
      "cell_type": "markdown",
      "source": [
        "### Upload the video from YouTube\n",
        "Pytube library is used to upload the video from YouTube and retrieve information about it."
      ],
      "metadata": {
        "id": "WgFYZigQPsni"
      }
    },
    {
      "cell_type": "code",
      "source": [
        "letterVideoYT = YouTube(youtubeID)"
      ],
      "metadata": {
        "id": "7LtjiF4hQGGn"
      },
      "execution_count": 8,
      "outputs": []
    },
    {
      "cell_type": "markdown",
      "source": [
        "### Get the video/audio\n",
        "Extract the video's audio using the get_audio_only() function from Pytube, which retrieves the video's audio track.\n"
      ],
      "metadata": {
        "id": "jhdkjvI7QG08"
      }
    },
    {
      "cell_type": "code",
      "source": [
        "audio = letterVideoYT.streams.get_audio_only()"
      ],
      "metadata": {
        "id": "ieoNXtI3Qkmp"
      },
      "execution_count": 9,
      "outputs": []
    },
    {
      "cell_type": "markdown",
      "source": [
        "### Download the audio file\n",
        "The video's audio is downloaded and saved in a file named 'audio.mp4' in the '/content/' directory."
      ],
      "metadata": {
        "id": "o8yldvqLQm5h"
      }
    },
    {
      "cell_type": "code",
      "source": [
        "audio.download(filename='/content/audio.mp4')"
      ],
      "metadata": {
        "id": "-sqetCIaQy5h"
      },
      "execution_count": null,
      "outputs": []
    },
    {
      "cell_type": "markdown",
      "source": [
        "### Transcribe the audio using the model\n",
        "Previously loaded Whisper model is used to transcribe the audio from the 'audio.mp4' file."
      ],
      "metadata": {
        "id": "KLAQH04tQ3Fx"
      }
    },
    {
      "cell_type": "code",
      "source": [
        "result = model.transcribe('audio.mp4')"
      ],
      "metadata": {
        "id": "WFjeQtmxRFAB"
      },
      "execution_count": null,
      "outputs": []
    },
    {
      "cell_type": "markdown",
      "source": [
        "### Save the output to a text file\n",
        "The transcription output is saved to a text file named 'result.txt' in UTF-8 format."
      ],
      "metadata": {
        "id": "1Tz3wrNiRHBl"
      }
    },
    {
      "cell_type": "code",
      "source": [
        "with open('resultado.txt', 'w', encoding='utf-8') as file:\n",
        "    file.write(result[\"text\"])\n",
        "\n",
        "print(\"Resultado guardado en 'resultado.txt'\")"
      ],
      "metadata": {
        "id": "2eveFpT4RqS_"
      },
      "execution_count": null,
      "outputs": []
    }
  ]
}